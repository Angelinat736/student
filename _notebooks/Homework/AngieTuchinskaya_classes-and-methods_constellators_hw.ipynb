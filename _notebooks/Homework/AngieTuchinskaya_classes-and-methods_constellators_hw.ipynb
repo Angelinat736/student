{
 "cells": [
  {
   "cell_type": "markdown",
   "id": "3ddc81e9",
   "metadata": {},
   "source": [
    "---\n",
    "layout: post\n",
    "toc: True\n",
    "breadcrumb: True\n",
    "title: CSSE Classes and Methods HW\n",
    "description: These are the homework problems and popcorn hacks.\n",
    "permalink: /csse/fall_2025/javascript/classes-and-methods/homework\n",
    "author: Adya S, Niharika B, Salma Z, Anika S, Sophie H\n",
    "---"
   ]
  },
  {
   "cell_type": "markdown",
   "id": "04a627a9",
   "metadata": {},
   "source": [
    "## **Classes and Methods**"
   ]
  },
  {
   "cell_type": "markdown",
   "id": "a88704ec",
   "metadata": {},
   "source": [
    "### <u>Popcorn Hack 1 - Dice Roller</u>\n",
    "\n",
    "\n",
    "Instructions:\n",
    "Finish the code in the cell below (fill in underlines and add lines of code) so it works as described:\n",
    "\n",
    "- Create a class called Dice that:\n",
    "    - Has a property for the number of sides.\n",
    "    - Has a method roll() that returns a random number between 1 and the number of sides.\n",
    "\n",
    "\n",
    "At the bottom, test your game by making a DiceGame object and calling roll() a few times.\n",
    "\n",
    "The code is currently NOT functional. When you have completed this popcorn hack, the code should work. Have fun!"
   ]
  },
  {
   "cell_type": "code",
   "execution_count": null,
   "id": "83cfb441",
   "metadata": {
    "vscode": {
     "languageId": "javascript"
    }
   },
   "outputs": [
    {
     "data": {
      "application/javascript": "\nclass _____ { // What should the name of the class be?\n  constructor(sides) { // Constructor to initialize the number of sides\n    this.sides = sides; // Number of sides on the dice\n  }\n\n  // ____() { // What should the name of the method be?\n    return Math.floor(Math.random() * _________) + 1; // Rolls the dice and returns a number between 1 and the number of sides\n  }\n}\n\n// Test the Dice class:\n// INSTANTIATE A NEW DICE OBJECT WITH A NUMBER OF SIDES\n\n// CALL THE ROLL METHOD A FEW TIMES AND PRINT THE RESULTS\n",
      "text/plain": [
       "<IPython.core.display.Javascript object>"
      ]
     },
     "metadata": {},
     "output_type": "display_data"
    }
   ],
   "source": [
    "%%javascript\n",
    "\n",
    "class dice { // What should the name of the class be?\n",
    "  constructor(sides) { // Constructor to initialize the number of sides\n",
    "    this.sides = sides; // Number of sides on the dice\n",
    "  }\n",
    "\n",
    "  roll() { // What should the name of the method be?\n",
    "    return Math.floor(Math.random() * this.sides) + 1; // Rolls the dice and returns a number between 1 and the number of sides\n",
    "  }\n",
    "}\n",
    "\n",
    "\n",
    "// Test the Dice class:\n",
    "// INSTANTIATE A NEW DICE OBJECT WITH A NUMBER OF SIDES\n",
    "const myDice = new Dice(6);\n",
    "// CALL THE ROLL METHOD A FEW TIMES AND PRINT THE RESULTS\n",
    "console.log(myDice.roll()); // Output: A random number between 1 and 6\n",
    "console.log(myDice.roll()); // Output: Another random number between 1 and 6\n",
    "console.log(myDice.roll()); // Output: Another random number between 1 and 6"
   ]
  },
  {
   "cell_type": "markdown",
   "id": "eb525919",
   "metadata": {},
   "source": [
    "### <u>Popcorn Hack 2 - Pet Simulator</u>\n",
    "\n",
    "\n",
    "This hack is a bit more complicated than the first. Points will be awarded based on effort and completion.\n",
    "\n",
    "\n",
    "Analyze the block of code below. Then, complete the following instructions:\n",
    "\n",
    "\n",
    "1) Create a simple Pet class by filling in the _________.\n",
    "\n",
    "2) Add at least 2 properties (like hunger, energy, or happiness). EX: Stats decrease over time.\n",
    "\n",
    "3) Add at least two functioning methods (such as feed, play, or sleep) EX: Buttons increase stats.\n",
    "\n",
    "4) Give your pet a name and print their current properties.\n",
    "\n",
    "5) Bonus: Add a \"status\" method to print all your pet's stats.\n",
    "\n",
    "\n",
    "The code is currently NOT functional. When you have completed this popcorn hack, the code should work. Have fun!\n",
    "\n"
   ]
  },
  {
   "cell_type": "code",
   "execution_count": null,
   "id": "740b316c",
   "metadata": {
    "vscode": {
     "languageId": "javascript"
    }
   },
   "outputs": [],
   "source": [
    "%%javascript\n",
    "\n",
    "class pet {\n",
    "  constructor(name) {\n",
    "    this.name = name;\n",
    "    this.hunger = 5;   // you can change these values\n",
    "    this.energy = 5;\n",
    "    this.happiness = 5;\n",
    "  }\n",
    "\n",
    "  // TODO: Write at least 2 methods here\n",
    "  //Example:\n",
    "  // feed()\n",
    "  feed() { // allow user to feed pet (add button to call this method)\n",
    "    this.energy += 1; // increase energy\n",
    "    this.hunger -= 2; // decrease hunger\n",
    "    this.happiness += 2; // increase happiness\n",
    "    console.log(this.name + \" has been fed!\"); // print that the pet has been fed to console\n",
    "  }\n",
    "\n",
    "  // play()\n",
    "  play() { // allow user to play w/ pet by clicking a button to call this method\n",
    "    this.energy -= 2; // decrease energy\n",
    "    this.hunger += 2; // increase hunger\n",
    "    this.happiness += 3; // increase happiness\n",
    "    console.log(this.name + \" has been played with!\"); // print that the pet has been played with to console\n",
    "  }\n",
    "}\n",
    "\n",
    "const myPet = new pet(\"child\"); // give your pet a name\n",
    "console.log(myPet); // print the properties of your pet to console\n",
    "output.innerText = \"Pet: \" + myPet.name + \n",
    "  \" | Hunger: \" + myPet.hunger + \n",
    "  \" | Energy: \" + myPet.energy + \n",
    "  \" | Happiness: \" + myPet.happiness; // print the properties of your pet\n",
    "\n",
    "// Test your methods below:\n",
    "myPet.feed();\n",
    "myPet.play();\n"
   ]
  },
  {
   "cell_type": "markdown",
   "id": "e7ae67bd",
   "metadata": {},
   "source": [
    "### <u>Homework</u>\n",
    "\n",
    "Complete the following questions in the next code block.\n",
    "\n",
    "1) Create a class Person with properties 'name' and 'age'. Print their properties.\n",
    "\n",
    "2) Add a method greet() to your Person class that prints a greeting using the person's name.\n",
    "\n",
    "3) Create a class Book with properties 'title', 'author', and 'pages'. Instantiate a book and print its properties.\n",
    "\n",
    "4) Add a method read(pages) to your Book class that increments a pagesRead property and prints a message.\n",
    "\n",
    "5) Add a method isLongBook() that returns true if pages > 300, otherwise false. Print the result for your book.\n",
    "\n",
    "6) Create a class Car with properties 'make', 'model', and 'fuel'. Add methods drive(distance) and refuel(amount). Print messages in each method.\n",
    "\n",
    "7) Add a static method info() to your Car class that prints 'Cars are vehicles.'\n",
    "\n",
    "8) Create a class ElectricCar that extends Car. Add a property 'battery' and a method charge(amount) that increases battery. Print battery level after charging.\n",
    "\n",
    "10) Create a routine that combines your objects: drive a Car, charge an ElectricCar, read pages from a Book, and call greet() on Person. Print outputs for each action.\n",
    "\n",
    "11) **Extra Credit:** Submit the original OOP Breakout Game Code (found on [OpenCS](https://github.com/Open-Coding-Society/pages/blob/main/hacks/breakout/breakout.md?plain=1)) after making the following edits:\n",
    "- Add another feature to the game: Add a method so that the ball must collide with some bricks twice for a brick to break completely.\n",
    "- Edit a method in the ball class to increase/decrease the speed of the ball: Please add a COMMENT on the game code that specifies which line you edited."
   ]
  },
  {
   "cell_type": "code",
   "execution_count": null,
   "id": "52d29f28",
   "metadata": {
    "vscode": {
     "languageId": "javascript"
    }
   },
   "outputs": [
    {
     "data": {
      "application/javascript": "\nconsole.log(\"Code, code, code!\");\n",
      "text/plain": [
       "<IPython.core.display.Javascript object>"
      ]
     },
     "metadata": {},
     "output_type": "display_data"
    }
   ],
   "source": [
    "%%javascript\n",
    "\n",
    "class Person:\n",
    "    def __init__(self, name, age):\n",
    "        self.name = name\n",
    "        self.age = age\n",
    "\n",
    "    def greet(self):\n",
    "        print(f\"Hello, my name is {self.name}.\")\n",
    "\n",
    "# Example\n",
    "p = Person(\"Angie\", 14)\n",
    "print(p.name)\n",
    "print(p.age)\n",
    "p.greet()\n",
    "\n",
    "class Book:\n",
    "    def __init__(self, title, author, pages):\n",
    "        self.title = title\n",
    "        self.author = author\n",
    "        self.pages = pages\n",
    "        self.pages_read = 0\n",
    "\n",
    "    def read_pages(self, num):\n",
    "        self.pages_read += num\n",
    "        print(f\"You read {num} pages. Total: {self.pages_read}/{self.pages}\")\n",
    "\n",
    "    def is_long_book(self):\n",
    "        return self.pages > 300\n",
    "\n",
    "# Example\n",
    "book = Book(\"Harry Potter\", \"J.K. Rowling\", 350)\n",
    "print(book.title)\n",
    "print(book.author)\n",
    "print(book.pages)\n",
    "book.read_pages(50)\n",
    "print(book.is_long_book())\n",
    "\n",
    "\n",
    "class Car:\n",
    "    def __init__(self, make, model, fuel):\n",
    "        self.make = make\n",
    "        self.model = model\n",
    "        self.fuel = fuel\n",
    "\n",
    "    def drive(self, distance):\n",
    "        print(f\"Driving {distance} miles in the {self.make} {self.model}\")\n",
    "\n",
    "    def distance(self):\n",
    "        print(\"Calculating distance...\")\n",
    "\n",
    "    def refuel(self, amount):\n",
    "        self.fuel += amount\n",
    "        print(f\"Refueled {amount} units. Fuel level: {self.fuel}\")\n",
    "\n",
    "    @staticmethod\n",
    "    def info():\n",
    "        print(\"Cars are vehicles.\")\n",
    "\n",
    "# Create and test a car\n",
    "c = Car(\"Toyota\", \"Camry\", 10)  \n",
    "c.drive(20)  \n",
    "c.refuel(5)  \n",
    "c.distance()\n",
    "Car.info()\n"
   ]
  }
 ],
 "metadata": {
  "kernelspec": {
   "display_name": "venv",
   "language": "python",
   "name": "python3"
  },
  "language_info": {
   "codemirror_mode": {
    "name": "ipython",
    "version": 3
   },
   "file_extension": ".py",
   "mimetype": "text/x-python",
   "name": "python",
   "nbconvert_exporter": "python",
   "pygments_lexer": "ipython3",
   "version": "3.12.3"
  }
 },
 "nbformat": 4,
 "nbformat_minor": 5
}
